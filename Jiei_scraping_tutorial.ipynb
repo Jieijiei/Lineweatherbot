{
 "cells": [
  {
   "cell_type": "code",
   "execution_count": 14,
   "metadata": {},
   "outputs": [
    {
     "name": "stdout",
     "output_type": "stream",
     "text": [
      "<Response [200]>\n"
     ]
    },
    {
     "data": {
      "text/plain": [
       "<ul class=\"topicsList_main\"><li class=\"topicsListItem\" data-ual=\"\" data-ual-view-type=\"list\"><a data-ual-gotocontent=\"true\" data-ylk=\"rsec:tpc_dom;slk:title;pos:1;\" href=\"https://news.yahoo.co.jp/pickup/6332582\">拉致可能性の男性 国内で発見<span aria-label=\"NEW\" class=\"labelIcon labelIcon-NEW\"></span></a></li><li class=\"topicsListItem\" data-ual=\"\" data-ual-view-type=\"list\"><a data-ual-gotocontent=\"true\" data-ylk=\"rsec:tpc_dom;slk:title;pos:2;\" href=\"https://news.yahoo.co.jp/pickup/6332578\">台風10号は迷走か 高気圧が鍵</a></li><li class=\"topicsListItem\" data-ual=\"\" data-ual-view-type=\"list\"><a data-ual-gotocontent=\"true\" data-ylk=\"rsec:tpc_dom;slk:title;pos:3;\" href=\"https://news.yahoo.co.jp/pickup/6332556\">米国防長官 首相と初会談</a></li><li class=\"topicsListItem\" data-ual=\"\" data-ual-view-type=\"list\"><a data-ual-gotocontent=\"true\" data-ylk=\"rsec:tpc_dom;slk:title;pos:4;\" href=\"https://news.yahoo.co.jp/pickup/6332541\">輸出優遇 韓国除外の政令公布</a></li><li class=\"topicsListItem\" data-ual=\"\" data-ual-view-type=\"list\"><a data-ual-gotocontent=\"true\" data-ylk=\"rsec:tpc_dom;slk:title;pos:5;\" href=\"https://news.yahoo.co.jp/pickup/6332599\">車に子供多数 安全に「盲点」<span aria-label=\"NEW\" class=\"labelIcon labelIcon-NEW\"></span></a></li><li class=\"topicsListItem\" data-ual=\"\" data-ual-view-type=\"list\"><a data-ual-gotocontent=\"true\" data-ylk=\"rsec:tpc_dom;slk:title;pos:6;\" href=\"https://news.yahoo.co.jp/pickup/6332547\">首絞めかけた 過酷な在宅介護</a></li><li class=\"topicsListItem\" data-ual=\"\" data-ual-view-type=\"list\"><a data-ual-gotocontent=\"true\" data-ylk=\"rsec:tpc_dom;slk:title;pos:7;\" href=\"https://news.yahoo.co.jp/pickup/6332561\">進次郎氏と滝クリ 結婚&amp;妊娠</a></li><li class=\"topicsListItem\" data-ual=\"\" data-ual-view-type=\"list\"><a data-ual-gotocontent=\"true\" data-ylk=\"rsec:tpc_dom;slk:title;pos:8;\" href=\"https://news.yahoo.co.jp/pickup/6332598\">首相 進次郎氏の結婚に驚く<span aria-label=\"NEW\" class=\"labelIcon labelIcon-NEW\"></span></a></li></ul>"
      ]
     },
     "execution_count": 14,
     "metadata": {},
     "output_type": "execute_result"
    }
   ],
   "source": [
    "import requests\n",
    "url = \"https://news.yahoo.co.jp/topics\"\n",
    "response = requests.get(url)\n",
    "response.status_code\n",
    "\n",
    "print(response)\n",
    "\n",
    "from bs4 import BeautifulSoup\n",
    "bs = BeautifulSoup(response.content,\"lxml\")\n",
    "\n",
    "bs.select('a')[0]\n",
    "\n",
    "bs.select('ul')\n",
    "\n",
    "topics = bs.select('.topicsList_main')\n",
    "topics[0]"
   ]
  },
  {
   "cell_type": "code",
   "execution_count": 15,
   "metadata": {},
   "outputs": [
    {
     "data": {
      "text/plain": [
       "'拉致可能性の男性 国内で発見'"
      ]
     },
     "execution_count": 15,
     "metadata": {},
     "output_type": "execute_result"
    }
   ],
   "source": [
    "topics[0].select('li')[0].text"
   ]
  },
  {
   "cell_type": "code",
   "execution_count": 27,
   "metadata": {},
   "outputs": [
    {
     "name": "stdout",
     "output_type": "stream",
     "text": [
      "{'拉致可能性の男性 国内で発見': ['台風10号は迷走か 高気圧が鍵', '米国防長官 首相と初会談', '輸出優遇 韓国除外の政令公布', '車に子供多数 安全に「盲点」', '首絞めかけた 過酷な在宅介護'], '日中韓外相会談 21日に開催へ': ['正恩氏 発射は米韓へ「警告」', 'ISがシリアで「復活」米報告', '米乱射 男が標的リスト所持', '米銃撃 乳児守った母ら犠牲に', '米紙の1面見出しに非難殺到'], 'SBグループ 純利益1兆円超': ['公取 ゼネコン4社長に指導', '関係悪化 日韓の就活にも影響', '人事院 公務員の給与増を勧告', '地銀初のネット銀行開業へ', 'ロッテ チョコ2種類を回収'], '孝太郎 結婚報告に時止まった': ['宮迫 今はテレビ復帰頭にない', '波瑠に熱愛報道 俳優と宮古島', '滝クリ ありのままでいられる', '向井理や風間俊介 20年大河に', '玉置浩二 体調不良で公演中断'], 'レアル久保建英 ついに招集外': ['甲子園 パン職人監督が夏1勝', '奥川9K完封 153kmにどよめき', '履正社が猛攻 驚愕の1試合5発', '五輪チケ再抽選 注意点まとめ', '輝星が8球で危険球退場 2軍戦'], 'ピザハット 帽子じゃなかった': ['清涼感「流しカワウソ」好評', '九州の母子あるある 動画人気', 'TV局が語る 自動字幕の裏側', '#好きです韓国 込めた思い', 'Apple 日本企業の知財侵害か'], '台風 危険な「一発大波」注意': ['ペルセウス座流星群 13日ヤマ', '不妊治療に800万円超 高い壁', '「モルヒネ打つ」消えぬ誤解', '112歳 最高齢の淡水魚発見', 'カメは自分で性決定?卵を研究'], '滑走路付近に車侵入 新千歳': ['埼玉・幸手市長を逮捕 暴行', 'フル規格前提なら拒否 佐賀県', '胎内で被爆 「地獄」語る決意', '遺体さえも残らぬ弟 姉の後悔', '表現の不自由展 県警が捜査へ']}\n"
     ]
    }
   ],
   "source": [
    "news_topics = {}\n",
    "for news in topics:\n",
    "    topic = news.select('li')[0].text\n",
    "    # print(topic)\n",
    "    news_topics[topic] = [news_topic.text for news_topic in news.select('li')[1:-2]]\n",
    "print(news_topics)"
   ]
  },
  {
   "cell_type": "code",
   "execution_count": 28,
   "metadata": {},
   "outputs": [
    {
     "data": {
      "text/plain": [
       "['台風10号は迷走か 高気圧が鍵',\n",
       " '米国防長官 首相と初会談',\n",
       " '輸出優遇 韓国除外の政令公布',\n",
       " '車に子供多数 安全に「盲点」',\n",
       " '首絞めかけた 過酷な在宅介護']"
      ]
     },
     "execution_count": 28,
     "metadata": {},
     "output_type": "execute_result"
    }
   ],
   "source": [
    "news_topics['拉致可能性の男性 国内で発見']"
   ]
  },
  {
   "cell_type": "code",
   "execution_count": 33,
   "metadata": {},
   "outputs": [
    {
     "data": {
      "text/html": [
       "<div>\n",
       "<style scoped>\n",
       "    .dataframe tbody tr th:only-of-type {\n",
       "        vertical-align: middle;\n",
       "    }\n",
       "\n",
       "    .dataframe tbody tr th {\n",
       "        vertical-align: top;\n",
       "    }\n",
       "\n",
       "    .dataframe thead th {\n",
       "        text-align: right;\n",
       "    }\n",
       "</style>\n",
       "<table border=\"1\" class=\"dataframe\">\n",
       "  <thead>\n",
       "    <tr style=\"text-align: right;\">\n",
       "      <th></th>\n",
       "      <th>拉致可能性の男性 国内で発見</th>\n",
       "      <th>日中韓外相会談 21日に開催へ</th>\n",
       "      <th>SBグループ 純利益1兆円超</th>\n",
       "      <th>孝太郎 結婚報告に時止まった</th>\n",
       "      <th>レアル久保建英 ついに招集外</th>\n",
       "      <th>ピザハット 帽子じゃなかった</th>\n",
       "      <th>台風 危険な「一発大波」注意</th>\n",
       "      <th>滑走路付近に車侵入 新千歳</th>\n",
       "    </tr>\n",
       "  </thead>\n",
       "  <tbody>\n",
       "    <tr>\n",
       "      <th>0</th>\n",
       "      <td>台風10号は迷走か 高気圧が鍵</td>\n",
       "      <td>正恩氏 発射は米韓へ「警告」</td>\n",
       "      <td>公取 ゼネコン4社長に指導</td>\n",
       "      <td>宮迫 今はテレビ復帰頭にない</td>\n",
       "      <td>甲子園 パン職人監督が夏1勝</td>\n",
       "      <td>清涼感「流しカワウソ」好評</td>\n",
       "      <td>ペルセウス座流星群 13日ヤマ</td>\n",
       "      <td>埼玉・幸手市長を逮捕 暴行</td>\n",
       "    </tr>\n",
       "    <tr>\n",
       "      <th>1</th>\n",
       "      <td>米国防長官 首相と初会談</td>\n",
       "      <td>ISがシリアで「復活」米報告</td>\n",
       "      <td>関係悪化 日韓の就活にも影響</td>\n",
       "      <td>波瑠に熱愛報道 俳優と宮古島</td>\n",
       "      <td>奥川9K完封 153kmにどよめき</td>\n",
       "      <td>九州の母子あるある  人気</td>\n",
       "      <td>不妊治療に800万円超 高い壁</td>\n",
       "      <td>フル規格前提なら拒否 佐賀県</td>\n",
       "    </tr>\n",
       "    <tr>\n",
       "      <th>2</th>\n",
       "      <td>輸出優遇 韓国除外の政令公布</td>\n",
       "      <td>米乱射 男が標的リスト所持</td>\n",
       "      <td>人事院 公務員の給与増を勧告</td>\n",
       "      <td>滝クリ ありのままでいられる</td>\n",
       "      <td>履正社が猛攻 驚愕の1試合5発</td>\n",
       "      <td>TV局が語る 自動字幕の裏側</td>\n",
       "      <td>「モルヒネ打つ」消えぬ誤解</td>\n",
       "      <td>胎内で被爆 「地獄」語る決意</td>\n",
       "    </tr>\n",
       "    <tr>\n",
       "      <th>3</th>\n",
       "      <td>車に子供多数 安全に「盲点」</td>\n",
       "      <td>米銃撃 乳児守った母ら犠牲に</td>\n",
       "      <td>地銀初のネット銀行開業へ</td>\n",
       "      <td>向井理や風間俊介 20年大河に</td>\n",
       "      <td>五輪チケ再抽選 注意点まとめ</td>\n",
       "      <td>#好きです韓国 込めた思い</td>\n",
       "      <td>112歳 最高齢の淡水魚発見</td>\n",
       "      <td>遺体さえも残らぬ弟 姉の後悔</td>\n",
       "    </tr>\n",
       "    <tr>\n",
       "      <th>4</th>\n",
       "      <td>首絞めかけた 過酷な在宅介護</td>\n",
       "      <td>米紙の1面見出しに非難殺到</td>\n",
       "      <td>ロッテ チョコ2種類を回収</td>\n",
       "      <td>玉置浩二 体調不良で公演中断</td>\n",
       "      <td>輝星が8球で危険球退場 2軍戦</td>\n",
       "      <td>Apple 日本企業の知財侵害か</td>\n",
       "      <td>カメは自分で性決定?卵を研究</td>\n",
       "      <td>表現の不自由展 県警が捜査へ</td>\n",
       "    </tr>\n",
       "  </tbody>\n",
       "</table>\n",
       "</div>"
      ],
      "text/plain": [
       "    拉致可能性の男性 国内で発見 日中韓外相会談 21日に開催へ  SBグループ 純利益1兆円超   孝太郎 結婚報告に時止まった  \\\n",
       "0  台風10号は迷走か 高気圧が鍵  正恩氏 発射は米韓へ「警告」   公取 ゼネコン4社長に指導   宮迫 今はテレビ復帰頭にない   \n",
       "1     米国防長官 首相と初会談  ISがシリアで「復活」米報告  関係悪化 日韓の就活にも影響   波瑠に熱愛報道 俳優と宮古島   \n",
       "2   輸出優遇 韓国除外の政令公布   米乱射 男が標的リスト所持  人事院 公務員の給与増を勧告   滝クリ ありのままでいられる   \n",
       "3   車に子供多数 安全に「盲点」  米銃撃 乳児守った母ら犠牲に    地銀初のネット銀行開業へ  向井理や風間俊介 20年大河に   \n",
       "4   首絞めかけた 過酷な在宅介護   米紙の1面見出しに非難殺到   ロッテ チョコ2種類を回収   玉置浩二 体調不良で公演中断   \n",
       "\n",
       "      レアル久保建英 ついに招集外    ピザハット 帽子じゃなかった   台風 危険な「一発大波」注意   滑走路付近に車侵入 新千歳  \n",
       "0     甲子園 パン職人監督が夏1勝     清涼感「流しカワウソ」好評  ペルセウス座流星群 13日ヤマ   埼玉・幸手市長を逮捕 暴行  \n",
       "1  奥川9K完封 153kmにどよめき     九州の母子あるある  人気  不妊治療に800万円超 高い壁  フル規格前提なら拒否 佐賀県  \n",
       "2    履正社が猛攻 驚愕の1試合5発    TV局が語る 自動字幕の裏側    「モルヒネ打つ」消えぬ誤解  胎内で被爆 「地獄」語る決意  \n",
       "3     五輪チケ再抽選 注意点まとめ     #好きです韓国 込めた思い   112歳 最高齢の淡水魚発見  遺体さえも残らぬ弟 姉の後悔  \n",
       "4    輝星が8球で危険球退場 2軍戦  Apple 日本企業の知財侵害か   カメは自分で性決定?卵を研究  表現の不自由展 県警が捜査へ  "
      ]
     },
     "execution_count": 33,
     "metadata": {},
     "output_type": "execute_result"
    }
   ],
   "source": [
    "import pandas as pd\n",
    "topics_dt = pd.DataFrame.from_dict(news_topics)\n",
    "topics_dt.apply( lambda x: x.str.replace(r'(new|写真|動画)', ' '))"
   ]
  },
  {
   "cell_type": "code",
   "execution_count": null,
   "metadata": {},
   "outputs": [],
   "source": []
  }
 ],
 "metadata": {
  "kernelspec": {
   "display_name": "Python 3",
   "language": "python",
   "name": "python3"
  },
  "language_info": {
   "codemirror_mode": {
    "name": "ipython",
    "version": 3
   },
   "file_extension": ".py",
   "mimetype": "text/x-python",
   "name": "python",
   "nbconvert_exporter": "python",
   "pygments_lexer": "ipython3",
   "version": "3.7.3"
  }
 },
 "nbformat": 4,
 "nbformat_minor": 2
}
